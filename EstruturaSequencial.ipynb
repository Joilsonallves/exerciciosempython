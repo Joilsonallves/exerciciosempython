{
  "nbformat": 4,
  "nbformat_minor": 0,
  "metadata": {
    "colab": {
      "provenance": [],
      "authorship_tag": "ABX9TyNur4o2mXcqJcGYQkICGKHp",
      "include_colab_link": true
    },
    "kernelspec": {
      "name": "python3",
      "display_name": "Python 3"
    },
    "language_info": {
      "name": "python"
    }
  },
  "cells": [
    {
      "cell_type": "markdown",
      "metadata": {
        "id": "view-in-github",
        "colab_type": "text"
      },
      "source": [
        "<a href=\"https://colab.research.google.com/github/Joilsonallves/exerciciosempython/blob/main/EstruturaSequencial.ipynb\" target=\"_parent\"><img src=\"https://colab.research.google.com/assets/colab-badge.svg\" alt=\"Open In Colab\"/></a>"
      ]
    },
    {
      "cell_type": "code",
      "execution_count": 1,
      "metadata": {
        "colab": {
          "base_uri": "https://localhost:8080/"
        },
        "id": "7tJ0th_X_fBN",
        "outputId": "4e75acf4-3e98-4a6e-e96e-011616b4f39e"
      },
      "outputs": [
        {
          "output_type": "stream",
          "name": "stdout",
          "text": [
            "Hello World!\n"
          ]
        }
      ],
      "source": [
        "##01.Faça um Programa que mostre a mensagem \"Alo mundo\" na tela.\n",
        "frase = \"Hello World!\"\n",
        "print(frase)"
      ]
    },
    {
      "cell_type": "code",
      "source": [
        "##02.Faça um Programa que peça um número e então mostre a mensagem O número informado foi [número].\n",
        "numero = int(input(\"Informe um número: \"))\n",
        "print(f'O número informado foi, {numero}')"
      ],
      "metadata": {
        "colab": {
          "base_uri": "https://localhost:8080/"
        },
        "id": "gPQSCy7o_7b3",
        "outputId": "470df35a-78d1-40f6-e555-15cf96da9077"
      },
      "execution_count": 2,
      "outputs": [
        {
          "output_type": "stream",
          "name": "stdout",
          "text": [
            "Informe um número: 10\n",
            "O número informado foi, 10\n"
          ]
        }
      ]
    },
    {
      "cell_type": "code",
      "source": [
        "##03.Faça um Programa que peça dois números e imprima a soma.\n",
        "numero_01 = int(input(\"Informe o número 1: \"))\n",
        "numero_02 = int(input(\"Informe o número 2: \"))\n",
        "resultado = numero_01 + numero_02\n",
        "print(f'O resultado da soma entre os dois números é, {resultado}')"
      ],
      "metadata": {
        "colab": {
          "base_uri": "https://localhost:8080/"
        },
        "id": "gitFdzYiAmrT",
        "outputId": "d7efe814-54ad-4104-f9b5-a42be66a6535"
      },
      "execution_count": 3,
      "outputs": [
        {
          "output_type": "stream",
          "name": "stdout",
          "text": [
            "Informe o número 1: 1\n",
            "Informe o número 2: 2\n",
            "O resultado da soma entre os dois números é, 3\n"
          ]
        }
      ]
    },
    {
      "cell_type": "code",
      "source": [
        "##04.Faça um Programa que peça as 4 notas bimestrais e mostre a média.\n",
        "nota_01 = float(input(\"Informe a nota do 1º bimestre: \"))\n",
        "nota_02 = float(input(\"Informe a nota do 2º bimestre: \"))\n",
        "nota_03 = float(input(\"Informe a nota do 3º bimestre: \"))\n",
        "nota_04 = float(input(\"Informe a nota do 4º bimestre: \"))\n",
        "media =  nota_01 + nota_02 + nota_03 + nota_04 % 4\n",
        "print(f'O resultado da média final é, {media}')"
      ],
      "metadata": {
        "colab": {
          "base_uri": "https://localhost:8080/"
        },
        "id": "oIvPrFH-AukU",
        "outputId": "188fde53-7df3-422b-ac16-5645747eede2"
      },
      "execution_count": 4,
      "outputs": [
        {
          "output_type": "stream",
          "name": "stdout",
          "text": [
            "Informe a nota do 1º bimestre: 4.1\n",
            "Informe a nota do 2º bimestre: 2.5\n",
            "Informe a nota do 3º bimestre: 10\n",
            "Informe a nota do 4º bimestre: 10\n",
            "O resultado da média final é, 18.6\n"
          ]
        }
      ]
    },
    {
      "cell_type": "code",
      "source": [
        "##05.Faça um Programa que converta metros para centímetros.\n",
        "metro = float(input(\"Informe o metro: \"))\n",
        "centimetro = 100\n",
        "conversao = metro * centimetro\n",
        "print(f'O resultado da conversão é, {conversao}')"
      ],
      "metadata": {
        "colab": {
          "base_uri": "https://localhost:8080/"
        },
        "id": "HW13IGXXAu0a",
        "outputId": "fb2f9316-3bae-418a-919c-1c373b6d84db"
      },
      "execution_count": 5,
      "outputs": [
        {
          "output_type": "stream",
          "name": "stdout",
          "text": [
            "Informe o metro: 1.85\n",
            "O resultado da conversão é, 185.0\n"
          ]
        }
      ]
    },
    {
      "cell_type": "code",
      "source": [
        "##06.Faça um Programa que peça o raio de um círculo, calcule e mostre sua área.\n",
        "diametro = int(input(\"Informe o diametro do circulo em cm: \"))\n",
        "raio = diametro / 2\n",
        "print(f'O resultado do raio do circulo informado é, {raio}')"
      ],
      "metadata": {
        "colab": {
          "base_uri": "https://localhost:8080/"
        },
        "id": "eUsZnVn_F16i",
        "outputId": "cfacd536-2eb5-4bd9-f234-0a796e81233e"
      },
      "execution_count": 6,
      "outputs": [
        {
          "output_type": "stream",
          "name": "stdout",
          "text": [
            "Informe o diametro do circulo em cm: 10\n",
            "O resultado do raio do circulo informado é, 5.0\n"
          ]
        }
      ]
    },
    {
      "cell_type": "code",
      "source": [
        "##07.Faça um Programa que calcule a área de um quadrado, em seguida mostre o dobro desta área para o usuário.\n",
        "base = float(input(\"Informe o comprimento da base: \"))\n",
        "altura = float(input(\"Informe a altura: \"))\n",
        "area = base * altura\n",
        "dobro_da_area = 2 * area\n",
        "print(f'A área do quadrado informado é, {area}')\n",
        "print(f'O dobro da área do quadrado é, {dobro_da_area}')"
      ],
      "metadata": {
        "id": "yth4B4AHI7iO",
        "outputId": "163f4f43-38a2-4615-975d-a9be5f5e829a",
        "colab": {
          "base_uri": "https://localhost:8080/"
        }
      },
      "execution_count": 7,
      "outputs": [
        {
          "output_type": "stream",
          "name": "stdout",
          "text": [
            "Informe o comprimento da base: 10\n",
            "Informe a altura: 10\n",
            "A área do quadrado informado é, 100.0\n",
            "O dobro da área do quadrado é, 200.0\n"
          ]
        }
      ]
    },
    {
      "cell_type": "code",
      "source": [
        "##08.Faça um Programa que pergunte quanto você ganha por hora e o número de horas trabalhadas no mês. Calcule e mostre o total do seu salário no referido mês.\n",
        "ganhos_por_hora = float(input(\"Informe seus ganhos por hora: \"))\n",
        "horas_trabalhadas = int(input(\"Informe as horas trabalhadas no mês: \"))\n",
        "\n",
        "salario_bruto = ganhos_por_hora * horas_trabalhadas\n",
        "print(f'O valor total do seu salário bruto é, R${salario_bruto}')"
      ],
      "metadata": {
        "colab": {
          "base_uri": "https://localhost:8080/"
        },
        "id": "Sndo5NqNMu-R",
        "outputId": "9550e8ab-3fbf-49e1-f53c-fefbcd43bd65"
      },
      "execution_count": 22,
      "outputs": [
        {
          "output_type": "stream",
          "name": "stdout",
          "text": [
            "Informe seus ganhos por hora: 10.40\n",
            "Informe as horas trabalhadas no mês: 160\n",
            "O valor total do seu salário bruto é, R$1664.0\n"
          ]
        }
      ]
    },
    {
      "cell_type": "code",
      "source": [
        "##09.Faça um Programa que peça a temperatura em graus Fahrenheit, transforme e mostre a temperatura em graus Celsius.\n",
        "## C = 5 * ((F-32) / 9).\n",
        "fahrenheit = float(input(\"Informe a temperatura em graus Fahrenheit: \"))\n",
        "formula = (fahrenheit - 32) * 5 / 9\n",
        "print(f'A temperatura em graus celsius é de, {formula}°')"
      ],
      "metadata": {
        "colab": {
          "base_uri": "https://localhost:8080/"
        },
        "id": "h2D_dQlfPhDP",
        "outputId": "deb2e340-1272-4bc4-b93d-8c0e58f2a4d9"
      },
      "execution_count": 9,
      "outputs": [
        {
          "output_type": "stream",
          "name": "stdout",
          "text": [
            "Informe a temperatura em graus Fahrenheit: 75\n",
            "A temperatura em graus celsius é de, 23.88888888888889°\n"
          ]
        }
      ]
    },
    {
      "cell_type": "code",
      "source": [
        "##10.Faça um Programa que peça a temperatura em graus Celsius, transforme e mostre em graus Fahrenheit.\n",
        "celsius = float(input(\"Informe a temperatura em graus Celsius: \"))\n",
        "formula = (celsius * 9/5) + 32\n",
        "print(f'A temperatura em graus fahrenheit é de, {formula}°F')"
      ],
      "metadata": {
        "colab": {
          "base_uri": "https://localhost:8080/"
        },
        "id": "Yck4l5deRrn7",
        "outputId": "c8274351-191e-48ce-a186-08543a6de0e6"
      },
      "execution_count": 10,
      "outputs": [
        {
          "output_type": "stream",
          "name": "stdout",
          "text": [
            "Informe a temperatura em graus Celsius: 28\n",
            "A temperatura em graus fahrenheit é de, 82.4°F\n"
          ]
        }
      ]
    },
    {
      "cell_type": "code",
      "source": [
        "##11.Faça um Programa que peça 2 números inteiros e um número real. Calcule e mostre:\n",
        "##A. o produto do dobro do primeiro com metade do segundo .\n",
        "##B. a soma do triplo do primeiro com o terceiro.\n",
        "##C. o terceiro elevado ao cubo.\n",
        "numero_inteiro1 = int(input(\"Digite um número inteiro: \"))\n",
        "numero_inteiro2 = int(input(\"Digite outro número inteiro: \"))\n",
        "numero_real = float(input(\"Digite um número real: \"))\n",
        "\n",
        "opcao_a = (2 * numero_inteiro1) * (numero_inteiro2 / 2)\n",
        "opcao_b = (3 * numero_inteiro1) + numero_real\n",
        "opcao_c = numero_real ** 3\n",
        "\n",
        "print(f'O produto do dobro do primeiro com metade do segundo é, {opcao_a}')\n",
        "print(f'A soma do triplo do primeiro com o terceiro é, {opcao_b}')\n",
        "print(f'O terceiro elevado ao cubo é, {opcao_c}')\n"
      ],
      "metadata": {
        "id": "aQKI9R1K8zv7",
        "outputId": "3c18fe4f-a29b-465c-97af-17a9a95ee7f6",
        "colab": {
          "base_uri": "https://localhost:8080/"
        }
      },
      "execution_count": 11,
      "outputs": [
        {
          "output_type": "stream",
          "name": "stdout",
          "text": [
            "Digite um número inteiro: 10\n",
            "Digite outro número inteiro: 5\n",
            "Digite um número real: 10\n",
            "O produto do dobro do primeiro com metade do segundo é, 50.0\n",
            "A soma do triplo do primeiro com o terceiro é, 40.0\n",
            "O terceiro elevado ao cubo é, 1000.0\n"
          ]
        }
      ]
    },
    {
      "cell_type": "code",
      "source": [
        "##12.Tendo como dados de entrada a altura de uma pessoa, construa um algoritmo que calcule seu peso ideal, usando a seguinte fórmula: (72.7*altura) - 58\n",
        "altura = float(input(\"Informe a sua altura: \"))\n",
        "peso_ideal = (72.7 * altura) - 58\n",
        "\n",
        "print(f'O seu peso ideal é, {peso_ideal}')"
      ],
      "metadata": {
        "id": "WeojD_F1876a",
        "outputId": "594b0ca4-a90a-41ff-e10b-1157b53c60ec",
        "colab": {
          "base_uri": "https://localhost:8080/"
        }
      },
      "execution_count": 12,
      "outputs": [
        {
          "output_type": "stream",
          "name": "stdout",
          "text": [
            "Informe a sua altura: 1.85\n",
            "O seu peso ideal é, 76.495\n"
          ]
        }
      ]
    },
    {
      "cell_type": "code",
      "source": [
        "##13.Tendo como dado de entrada a altura (h) de uma pessoa, construa um algoritmo que calcule seu peso ideal, utilizando as seguintes fórmulas:\n",
        "##Para homens: (72.7*h) - 58\n",
        "##Para mulheres: (62.1*h) - 44.7\n",
        "altura_homem = float(input(\"Digite a altura do homem: \"))\n",
        "altura_mulher = float(input(\"Digite a altura da mulher: \"))\n",
        "\n",
        "peso_ideal_homem = (72.7 * altura_homem) - 58\n",
        "peso_ideal_mulher = (62.1 * altura_mulher) - 44.7\n",
        "\n",
        "print(f'O peso ideal para homens é, {peso_ideal_homem}')\n",
        "print(f'O peso ideal para mulheres é, {peso_ideal_mulher}')"
      ],
      "metadata": {
        "id": "40At7LJq88XP",
        "outputId": "f7d710a0-46d0-4ea8-dd82-a857b1a0d7d5",
        "colab": {
          "base_uri": "https://localhost:8080/"
        }
      },
      "execution_count": 13,
      "outputs": [
        {
          "output_type": "stream",
          "name": "stdout",
          "text": [
            "Digite a altura do homem: 1.85\n",
            "Digite a altura da mulher: 1.58\n",
            "O peso ideal para homens é, 76.495\n",
            "O peso ideal para mulheres é, 53.418000000000006\n"
          ]
        }
      ]
    },
    {
      "cell_type": "code",
      "source": [
        "##14.João Papo-de-Pescador, homem de bem, comprou um microcomputador para controlar o rendimento diário de seu trabalho. Toda vez que ele traz um peso de peixes maior que o estabelecido pelo regulamento de pesca do estado de São Paulo (50 quilos) deve pagar uma multa de R$ 4,00 por quilo excedente. João precisa que você faça um programa que leia a variável peso (peso de peixes) e calcule o excesso. Gravar na variável excesso a quantidade de quilos além do limite e na variável multa o valor da multa que João deverá pagar. Imprima os dados do programa com as mensagens adequadas.\n"
      ],
      "metadata": {
        "id": "u3N7KhQn882l"
      },
      "execution_count": null,
      "outputs": []
    },
    {
      "cell_type": "code",
      "source": [
        "##15.Faça um Programa que pergunte quanto você ganha por hora e o número de horas trabalhadas no mês. Calcule e mostre o total do seu salário no referido mês, sabendo-se que são descontados 11% para o Imposto de Renda, 8% para o INSS e 5% para o sindicato, faça um programa que nos dê:\n",
        "##salário bruto.\n",
        "##quanto pagou ao INSS.\n",
        "##quanto pagou ao sindicato.\n",
        "##o salário líquido.\n",
        "##calcule os descontos e o salário líquido, conforme a tabela abaixo:\n",
        "##+ Salário Bruto : R$\n",
        "##- IR (11%) : R$\n",
        "##- INSS (8%) : R$\n",
        "##- Sindicato ( 5%) : R$\n",
        "##= Salário Liquido : R$\n",
        "##Obs.: Salário Bruto - Descontos = Salário Líquido.\n",
        "imposto_renda = salario_bruto * 0.11\n",
        "inss = salario_bruto * 0.08\n",
        "sindicato = salario_bruto * 0.05\n",
        "\n",
        "salario_liquido = salario_bruto - (imposto_renda + inss + sindicato)\n",
        "\n",
        "print(f'Desconto IR: (11%): {imposto_renda}')\n",
        "print(f'Desconto INSS (8%): {inss}')\n",
        "print(f'Desconto Sindicato (5%): {sindicato}')\n",
        "print(f'Salário Liquido: {salario_liquido}')"
      ],
      "metadata": {
        "id": "LaHGCzGi89Jw",
        "outputId": "ccc59729-4ce4-4fc9-c0b2-bb5e9b16c7f9",
        "colab": {
          "base_uri": "https://localhost:8080/"
        }
      },
      "execution_count": 23,
      "outputs": [
        {
          "output_type": "stream",
          "name": "stdout",
          "text": [
            "Desconto IR: (11%): 183.04\n",
            "Desconto INSS (8%): 133.12\n",
            "Desconto Sindicato (5%): 83.2\n",
            "Salário Liquido: 1264.64\n"
          ]
        }
      ]
    },
    {
      "cell_type": "code",
      "source": [
        "##16.Faça um programa para uma loja de tintas. O programa deverá pedir o tamanho em metros quadrados da área a ser pintada. Considere que a cobertura da tinta é de 1 litro para cada 3 metros quadrados e que a tinta é vendida em latas de 18 litros, que custam R$ 80,00. Informe ao usuário a quantidades de latas de tinta a serem compradas e o preço total.\n",
        "tamanho_da_area = float(input(\"Informe o tamanho em metros quadrados da área a ser pintada: \"))\n",
        "litros_necessarios = tamanho_da_area / 3\n",
        "quantidade_de_latas = litros_necessarios / 18\n",
        "preco_total = quantidade_de_latas * 80.00\n",
        "\n",
        "print(f'A quantidade de latas de tintas a serem compradas é de, {quantidade_de_latas}')\n",
        "print(f'O valor total a ser pago pelas tintas é de, R${preco_total}')\n",
        "\n"
      ],
      "metadata": {
        "id": "p1IjzKnSL5ZA",
        "outputId": "885bc91c-8655-4c50-d4c6-221f55488d47",
        "colab": {
          "base_uri": "https://localhost:8080/"
        }
      },
      "execution_count": 25,
      "outputs": [
        {
          "output_type": "stream",
          "name": "stdout",
          "text": [
            "Informe o tamanho em metros quadrados da área a ser pintada: 45\n",
            "A quantidade de latas de tintas a serem compradas é de, 0.8333333333333334\n",
            "O valor total a ser pago pelas tintas é de, R$66.66666666666667\n"
          ]
        }
      ]
    },
    {
      "cell_type": "code",
      "source": [
        "##17.Faça um Programa para uma loja de tintas. O programa deverá pedir o tamanho em metros quadrados da área a ser pintada. Considere que a cobertura da tinta é de 1 litro para cada 6 metros quadrados e que a tinta é vendida em latas de 18 litros, que custam R$ 80,00 ou em galões de 3,6 litros, que custam R$ 25,00.\n",
        "  ##Informe ao usuário as quantidades de tinta a serem compradas e os respectivos preços em 3 situações:\n",
        "  ##comprar apenas latas de 18 litros;\n",
        "  ##comprar apenas galões de 3,6 litros;\n",
        "  ##misturar latas e galões, de forma que o desperdício de tinta seja menor. Acrescente 10% de folga e sempre arredonde os valores para cima, isto é, considere latas cheias.\n"
      ],
      "metadata": {
        "id": "T68fTUfQOH5R"
      },
      "execution_count": null,
      "outputs": []
    },
    {
      "cell_type": "code",
      "source": [
        "##18.Faça um programa que peça o tamanho de um arquivo para download (em MB) e a velocidade de um link de Internet (em Mbps), calcule e informe o tempo aproximado de download do arquivo usando este link (em minutos).\n"
      ],
      "metadata": {
        "id": "KFee-ncyOtCZ"
      },
      "execution_count": null,
      "outputs": []
    }
  ]
}