{
  "nbformat": 4,
  "nbformat_minor": 0,
  "metadata": {
    "colab": {
      "provenance": [],
      "authorship_tag": "ABX9TyNb+Lg5GTSJVTagZ7+/AQek",
      "include_colab_link": true
    },
    "kernelspec": {
      "name": "python3",
      "display_name": "Python 3"
    },
    "language_info": {
      "name": "python"
    }
  },
  "cells": [
    {
      "cell_type": "markdown",
      "metadata": {
        "id": "view-in-github",
        "colab_type": "text"
      },
      "source": [
        "<a href=\"https://colab.research.google.com/github/Joilsonallves/exerciciosempython/blob/main/EstruturaSequencial.ipynb\" target=\"_parent\"><img src=\"https://colab.research.google.com/assets/colab-badge.svg\" alt=\"Open In Colab\"/></a>"
      ]
    },
    {
      "cell_type": "code",
      "execution_count": 2,
      "metadata": {
        "colab": {
          "base_uri": "https://localhost:8080/"
        },
        "id": "7tJ0th_X_fBN",
        "outputId": "1f4ba1cb-d710-4cb0-c258-c5239ff6ba5f"
      },
      "outputs": [
        {
          "output_type": "stream",
          "name": "stdout",
          "text": [
            "Hello World!\n"
          ]
        }
      ],
      "source": [
        "##01.Faça um Programa que mostre a mensagem \"Alo mundo\" na tela.\n",
        "frase = \"Hello World!\"\n",
        "print(frase)"
      ]
    },
    {
      "cell_type": "code",
      "source": [
        "##02.Faça um Programa que peça um número e então mostre a mensagem O número informado foi [número].\n",
        "numero = int(input(\"Informe um número: \"))\n",
        "print(f'O número informado foi, {numero}')"
      ],
      "metadata": {
        "colab": {
          "base_uri": "https://localhost:8080/"
        },
        "id": "gPQSCy7o_7b3",
        "outputId": "3a486511-c5ba-4d62-b026-4b137044fc75"
      },
      "execution_count": 4,
      "outputs": [
        {
          "output_type": "stream",
          "name": "stdout",
          "text": [
            "Informe um número: 10\n",
            "O número informado foi, 10\n"
          ]
        }
      ]
    },
    {
      "cell_type": "code",
      "source": [
        "##03.Faça um Programa que peça dois números e imprima a soma.\n",
        "numero_01 = int(input(\"Informe o número 1: \"))\n",
        "numero_02 = int(input(\"Informe o número 2: \"))\n",
        "resultado = numero_01 + numero_02\n",
        "print(f'O resultado da soma entre os dois números é, {resultado}')"
      ],
      "metadata": {
        "colab": {
          "base_uri": "https://localhost:8080/"
        },
        "id": "gitFdzYiAmrT",
        "outputId": "6d34f828-8930-4f7d-ca30-dc9c5959f4f9"
      },
      "execution_count": 5,
      "outputs": [
        {
          "output_type": "stream",
          "name": "stdout",
          "text": [
            "Informe o número 1: 2\n",
            "Informe o número 2: 5\n",
            "O resultado da soma entre os dois números é, 7\n"
          ]
        }
      ]
    },
    {
      "cell_type": "code",
      "source": [
        "##04.Faça um Programa que peça as 4 notas bimestrais e mostre a média.\n",
        "nota_01 = float(input(\"Informe a nota do 1º bimestre: \"))\n",
        "nota_02 = float(input(\"Informe a nota do 2º bimestre: \"))\n",
        "nota_03 = float(input(\"Informe a nota do 3º bimestre: \"))\n",
        "nota_04 = float(input(\"Informe a nota do 4º bimestre: \"))\n",
        "media =  nota_01 + nota_02 + nota_03 + nota_04 % 4\n",
        "print(f'O resultado da média final é, {media}')"
      ],
      "metadata": {
        "colab": {
          "base_uri": "https://localhost:8080/"
        },
        "id": "oIvPrFH-AukU",
        "outputId": "7511c48c-85d7-44bc-eb97-7809fb957302"
      },
      "execution_count": 8,
      "outputs": [
        {
          "output_type": "stream",
          "name": "stdout",
          "text": [
            "Informe a nota do 1º bimestre: 6.1\n",
            "Informe a nota do 2º bimestre: 8.0\n",
            "Informe a nota do 3º bimestre: 5.5\n",
            "Informe a nota do 4º bimestre: 7.2\n",
            "O resultado da média final é, 22.8\n"
          ]
        }
      ]
    },
    {
      "cell_type": "code",
      "source": [
        "##05.Faça um Programa que converta metros para centímetros.\n",
        "metro = float(input(\"Informe o metro: \"))\n",
        "centimetro = 100\n",
        "conversao = metro * centimetro\n",
        "print(f'O resultado da conversão é, {conversao}')"
      ],
      "metadata": {
        "colab": {
          "base_uri": "https://localhost:8080/"
        },
        "id": "HW13IGXXAu0a",
        "outputId": "edfd8b2b-d1ca-454c-fe02-c854b4e1525d"
      },
      "execution_count": 10,
      "outputs": [
        {
          "output_type": "stream",
          "name": "stdout",
          "text": [
            "Informe o metro: 1.85\n",
            "O resultado da conversão é, 185.0\n"
          ]
        }
      ]
    },
    {
      "cell_type": "code",
      "source": [
        "##06.Faça um Programa que peça o raio de um círculo, calcule e mostre sua área.\n",
        "diametro = int(input(\"Informe o diametro do circulo em cm: \"))\n",
        "raio = diametro / 2\n",
        "print(f'O resultado do raio do circulo informado é, {raio}')"
      ],
      "metadata": {
        "colab": {
          "base_uri": "https://localhost:8080/"
        },
        "id": "eUsZnVn_F16i",
        "outputId": "6bfbe626-5954-4675-960b-2a9fe4ab0125"
      },
      "execution_count": 15,
      "outputs": [
        {
          "output_type": "stream",
          "name": "stdout",
          "text": [
            "Informe o diametro do circulo em cm: 120\n",
            "O resultado do raio do circulo informado é, 60.0\n"
          ]
        }
      ]
    },
    {
      "cell_type": "code",
      "source": [
        "##07.Faça um Programa que calcule a área de um quadrado, em seguida mostre o dobro desta área para o usuário.\n",
        "base = float(input(\"Informe o comprimento da base: \"))\n",
        "altura = float(input(\"Informe a altura: \"))\n",
        "area = base * altura\n",
        "dobro_da_area = 2 * area\n",
        "print(f'A área do quadrado informado é, {area}')\n",
        "print(f'O dobro da área do quadrado é, {dobro_da_area}')"
      ],
      "metadata": {
        "id": "yth4B4AHI7iO"
      },
      "execution_count": null,
      "outputs": []
    },
    {
      "cell_type": "code",
      "source": [
        "##08.Faça um Programa que pergunte quanto você ganha por hora e o número de horas trabalhadas no mês. Calcule e mostre o total do seu salário no referido mês.\n",
        "ganhos_por_hora = float(input(\"Informe seus ganhos por hora: \"))\n",
        "horas_trabalhadas_por_dia = int(input(\"Informe as horas diarias trabalhadas: \"))\n",
        "dias_trabalhados = int(input(\"Informe os dias trabalhados no mês: \"))\n",
        "calculo = ganhos_por_hora * (horas_trabalhadas_por_dia * dias_trabalhados)\n",
        "print(f'O total do seu salário no referido mês é de, R${calculo} Reais')"
      ],
      "metadata": {
        "colab": {
          "base_uri": "https://localhost:8080/"
        },
        "id": "Sndo5NqNMu-R",
        "outputId": "7975081b-91ae-4bd1-c231-07834963f198"
      },
      "execution_count": 27,
      "outputs": [
        {
          "output_type": "stream",
          "name": "stdout",
          "text": [
            "Informe seus ganhos por hora: 8.00\n",
            "Informe as horas diarias trabalhadas: 8\n",
            "Informe os dias trabalhados no mês: 22\n",
            "O total do seu salário no referido mês é de, R$1408.0 Reais\n"
          ]
        }
      ]
    },
    {
      "cell_type": "code",
      "source": [
        "##09.Faça um Programa que peça a temperatura em graus Fahrenheit, transforme e mostre a temperatura em graus Celsius.\n",
        "## C = 5 * ((F-32) / 9).\n",
        "fahrenheit = float(input(\"Informe a temperatura em graus Fahrenheit: \"))\n",
        "formula = (fahrenheit - 32) * 5 / 9\n",
        "print(f'A temperatura em graus celsius é de, {formula}°')"
      ],
      "metadata": {
        "colab": {
          "base_uri": "https://localhost:8080/"
        },
        "id": "h2D_dQlfPhDP",
        "outputId": "605edbb6-9d8c-4900-9841-883d976435fb"
      },
      "execution_count": 39,
      "outputs": [
        {
          "output_type": "stream",
          "name": "stdout",
          "text": [
            "Informe a temperatura em graus Fahrenheit: 75\n",
            "A temperatura em graus celsius é de, 23.88888888888889°\n"
          ]
        }
      ]
    },
    {
      "cell_type": "code",
      "source": [
        "##10.Faça um Programa que peça a temperatura em graus Celsius, transforme e mostre em graus Fahrenheit.\n",
        "celsius = float(input(\"Informe a temperatura em graus Celsius: \"))\n",
        "formula = (celsius * 9/5) + 32\n",
        "print(f'A temperatura em graus fahrenheit é de, {formula}°F')"
      ],
      "metadata": {
        "colab": {
          "base_uri": "https://localhost:8080/"
        },
        "id": "Yck4l5deRrn7",
        "outputId": "6f097f94-0f90-4375-d671-5f4990daeee2"
      },
      "execution_count": 40,
      "outputs": [
        {
          "output_type": "stream",
          "name": "stdout",
          "text": [
            "Informe a temperatura em graus Celsius: 23\n",
            "A temperatura em graus fahrenheit é de, 73.4°F\n"
          ]
        }
      ]
    }
  ]
}